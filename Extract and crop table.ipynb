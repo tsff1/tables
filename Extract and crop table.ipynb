{
 "cells": [
  {
   "cell_type": "code",
   "execution_count": 1,
   "id": "07d9bc26",
   "metadata": {},
   "outputs": [],
   "source": [
    "import excel2img\n",
    "from PIL import Image"
   ]
  },
  {
   "cell_type": "code",
   "execution_count": 2,
   "id": "09b0fb4e",
   "metadata": {},
   "outputs": [],
   "source": [
    "def createTableImage(league, week, season):\n",
    "    \n",
    "    # Define paths\n",
    "    filename = season + \"_\" + league + \"/Tabell_\" + league + \"_\" + str(week)\n",
    "    filenameEx = filename + \".xlsm\"\n",
    "    filenameIm = filename + \".png\"\n",
    "\n",
    "    # Convert and save image\n",
    "    excel2img.export_img(filenameEx, filenameIm, page = 6)\n",
    "    \n",
    "    # Open and crop image\n",
    "    im = Image.open(filenameIm)\n",
    "    im = im.crop((1, 2, 1320, 246 + 115*teams))\n",
    "    im.save(filenameIm)"
   ]
  },
  {
   "cell_type": "code",
   "execution_count": 3,
   "id": "e5f1cf05",
   "metadata": {},
   "outputs": [],
   "source": [
    "league = \"B\"      # Capital letter of league\n",
    "week = 0          # Matchweek\n",
    "season = \"V22\"    # Season\n",
    "teams = 6         # Number of teams"
   ]
  },
  {
   "cell_type": "code",
   "execution_count": 4,
   "id": "85bf2fc0",
   "metadata": {},
   "outputs": [],
   "source": [
    "createTableImage(league, week, season)"
   ]
  },
  {
   "cell_type": "code",
   "execution_count": 1,
   "id": "242f1896",
   "metadata": {},
   "outputs": [],
   "source": [
    "import img2url"
   ]
  }
 ],
 "metadata": {
  "kernelspec": {
   "display_name": "Python 3 (ipykernel)",
   "language": "python",
   "name": "python3"
  },
  "language_info": {
   "codemirror_mode": {
    "name": "ipython",
    "version": 3
   },
   "file_extension": ".py",
   "mimetype": "text/x-python",
   "name": "python",
   "nbconvert_exporter": "python",
   "pygments_lexer": "ipython3",
   "version": "3.9.7"
  }
 },
 "nbformat": 4,
 "nbformat_minor": 5
}
